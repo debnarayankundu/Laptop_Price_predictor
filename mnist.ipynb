{
  "nbformat": 4,
  "nbformat_minor": 0,
  "metadata": {
    "colab": {
      "provenance": [],
      "authorship_tag": "ABX9TyO+AcaEyuvLc3mbLQySW0yQ",
      "include_colab_link": true
    },
    "kernelspec": {
      "name": "python3",
      "display_name": "Python 3"
    },
    "language_info": {
      "name": "python"
    }
  },
  "cells": [
    {
      "cell_type": "markdown",
      "metadata": {
        "id": "view-in-github",
        "colab_type": "text"
      },
      "source": [
        "<a href=\"https://colab.research.google.com/github/debnarayankundu/Laptop_Price_predictor/blob/main/mnist.ipynb\" target=\"_parent\"><img src=\"https://colab.research.google.com/assets/colab-badge.svg\" alt=\"Open In Colab\"/></a>"
      ]
    },
    {
      "cell_type": "code",
      "source": [
        "import numpy as np\n",
        "import tensorflow as tf\n",
        "from sklearn.model_selection import train_test_split\n",
        "\n",
        "(X_train, y_train), (X_test, y_test) = tf.keras.datasets.mnist.load_data()\n",
        "\n",
        "print(\"Original Training Data Shape:\", X_train.shape)\n",
        "print(\"Original Training Labels Shape:\", y_train.shape)\n",
        "print(\"Original Test Data Shape:\", X_test.shape)\n",
        "print(\"Original Test Labels Shape:\", y_test.shape)\n"
      ],
      "metadata": {
        "colab": {
          "base_uri": "https://localhost:8080/"
        },
        "id": "XsXk_kWRNudf",
        "outputId": "f2969903-8fab-4572-f840-2154e737df1a"
      },
      "execution_count": 1,
      "outputs": [
        {
          "output_type": "stream",
          "name": "stdout",
          "text": [
            "Downloading data from https://storage.googleapis.com/tensorflow/tf-keras-datasets/mnist.npz\n",
            "\u001b[1m11490434/11490434\u001b[0m \u001b[32m━━━━━━━━━━━━━━━━━━━━\u001b[0m\u001b[37m\u001b[0m \u001b[1m0s\u001b[0m 0us/step\n",
            "Original Training Data Shape: (60000, 28, 28)\n",
            "Original Training Labels Shape: (60000,)\n",
            "Original Test Data Shape: (10000, 28, 28)\n",
            "Original Test Labels Shape: (10000,)\n"
          ]
        }
      ]
    },
    {
      "cell_type": "code",
      "source": [
        "\n",
        "train_filter = np.isin(y_train, [1, 2, 3, 4])\n",
        "test_filter = np.isin(y_test, [1, 2, 3, 4])\n",
        "\n",
        "\n",
        "X_train_filtered = X_train[train_filter]\n",
        "y_train_filtered = y_train[train_filter]\n",
        "X_test_filtered = X_test[test_filter]\n",
        "y_test_filtered = y_test[test_filter]\n",
        "\n",
        "\n",
        "print(\"Filtered Training Data Shape:\", X_train_filtered.shape)\n",
        "print(\"Filtered Training Labels Shape:\", y_train_filtered.shape)\n",
        "print(\"Filtered Test Data Shape:\", X_test_filtered.shape)\n",
        "print(\"Filtered Test Labels Shape:\", y_test_filtered.shape)\n"
      ],
      "metadata": {
        "colab": {
          "base_uri": "https://localhost:8080/"
        },
        "id": "RNQByCSNNwhN",
        "outputId": "88a51706-40d1-404f-dc67-55c0f2c579f0"
      },
      "execution_count": 2,
      "outputs": [
        {
          "output_type": "stream",
          "name": "stdout",
          "text": [
            "Filtered Training Data Shape: (24673, 28, 28)\n",
            "Filtered Training Labels Shape: (24673,)\n",
            "Filtered Test Data Shape: (4159, 28, 28)\n",
            "Filtered Test Labels Shape: (4159,)\n"
          ]
        }
      ]
    },
    {
      "cell_type": "code",
      "source": [
        "\n",
        "X_train, X_val, y_train, y_val = train_test_split(X_train_filtered, y_train_filtered, test_size=0.2, random_state=42)\n",
        "\n",
        "\n",
        "print(\"Post-Split Training Data Shape:\", X_train.shape)\n",
        "print(\"Post-Split Training Labels Shape:\", y_train.shape)\n",
        "print(\"Post-Split Validation Data Shape:\", X_val.shape)\n",
        "print(\"Post-Split Validation Labels Shape:\", y_val.shape)\n"
      ],
      "metadata": {
        "colab": {
          "base_uri": "https://localhost:8080/"
        },
        "id": "aSwXuVYFN1Ft",
        "outputId": "08b0b64f-36fe-412a-f8d8-9c6cdfef7ee9"
      },
      "execution_count": 3,
      "outputs": [
        {
          "output_type": "stream",
          "name": "stdout",
          "text": [
            "Post-Split Training Data Shape: (19738, 28, 28)\n",
            "Post-Split Training Labels Shape: (19738,)\n",
            "Post-Split Validation Data Shape: (4935, 28, 28)\n",
            "Post-Split Validation Labels Shape: (4935,)\n"
          ]
        }
      ]
    },
    {
      "cell_type": "code",
      "source": [
        "\n",
        "X_train = X_train.reshape((X_train.shape[0], 28 * 28)).astype('float32') / 255\n",
        "X_test = X_test_filtered.reshape((X_test_filtered.shape[0], 28 * 28)).astype('float32') / 255\n",
        "X_val = X_val.reshape((X_val.shape[0], 28 * 28)).astype('float32') / 255\n",
        "\n",
        "\n",
        "print(\"Reshaped Training Data Shape:\", X_train.shape)\n",
        "print(\"Reshaped Test Data Shape:\", X_test.shape)\n",
        "print(\"Reshaped Validation Data Shape:\", X_val.shape)\n"
      ],
      "metadata": {
        "colab": {
          "base_uri": "https://localhost:8080/"
        },
        "id": "B3HM_I5cN4iQ",
        "outputId": "b8daf127-d490-4c6b-8e0c-f1d97879a647"
      },
      "execution_count": 4,
      "outputs": [
        {
          "output_type": "stream",
          "name": "stdout",
          "text": [
            "Reshaped Training Data Shape: (19738, 784)\n",
            "Reshaped Test Data Shape: (4159, 784)\n",
            "Reshaped Validation Data Shape: (4935, 784)\n"
          ]
        }
      ]
    },
    {
      "cell_type": "code",
      "source": [
        "\n",
        "y_train = y_train - 1\n",
        "y_val = y_val - 1\n",
        "y_test_filtered = y_test_filtered - 1\n",
        "\n",
        "\n",
        "y_train_one_hot = tf.keras.utils.to_categorical(y_train, num_classes=4)\n",
        "y_val_one_hot = tf.keras.utils.to_categorical(y_val, num_classes=4)\n",
        "y_test_one_hot = tf.keras.utils.to_categorical(y_test_filtered, num_classes=4)\n",
        "\n",
        "\n",
        "print(\"Final Training Data Shape:\", X_train.shape)\n",
        "print(\"Final Training Labels Shape:\", y_train_one_hot.shape)\n",
        "print(\"Final Validation Data Shape:\", X_val.shape)\n",
        "print(\"Final Validation Labels Shape:\", y_val_one_hot.shape)\n"
      ],
      "metadata": {
        "colab": {
          "base_uri": "https://localhost:8080/"
        },
        "id": "1cYn8DuhN7ue",
        "outputId": "ac2556c8-76ba-4c69-a6cb-f9d586f116ee"
      },
      "execution_count": 5,
      "outputs": [
        {
          "output_type": "stream",
          "name": "stdout",
          "text": [
            "Final Training Data Shape: (19738, 784)\n",
            "Final Training Labels Shape: (19738, 4)\n",
            "Final Validation Data Shape: (4935, 784)\n",
            "Final Validation Labels Shape: (4935, 4)\n"
          ]
        }
      ]
    },
    {
      "cell_type": "code",
      "source": [
        "\n",
        "model = tf.keras.models.Sequential()\n",
        "model.add(tf.keras.layers.Input(shape=(28 * 28,)))\n",
        "model.add(tf.keras.layers.Dense(512, activation='relu'))\n",
        "model.add(tf.keras.layers.Dropout(0.3))\n",
        "model.add(tf.keras.layers.Dense(256, activation='relu'))\n",
        "model.add(tf.keras.layers.Dropout(0.4))\n",
        "model.add(tf.keras.layers.Dense(128, activation='relu'))\n",
        "model.add(tf.keras.layers.Dropout(0.7))\n",
        "model.add(tf.keras.layers.Dense(64, activation='relu'))\n",
        "model.add(tf.keras.layers.Dropout(0.5))\n",
        "model.add(tf.keras.layers.Dense(4, activation='softmax'))\n",
        "\n",
        "\n",
        "optimizer = tf.keras.optimizers.Adam()\n",
        "loss_fn = tf.keras.losses.CategoricalCrossentropy()\n",
        "model.compile(optimizer=optimizer, loss=loss_fn, metrics=['accuracy'])\n"
      ],
      "metadata": {
        "id": "2dqcwc6KOKql"
      },
      "execution_count": 6,
      "outputs": []
    },
    {
      "cell_type": "code",
      "source": [
        "\n",
        "model.fit(X_train, y_train_one_hot, epochs=10, batch_size=32, validation_data=(X_val, y_val_one_hot))\n"
      ],
      "metadata": {
        "colab": {
          "base_uri": "https://localhost:8080/"
        },
        "id": "r03Ebez4ONfm",
        "outputId": "a6c35cbe-8861-4798-cd9b-261052d82351"
      },
      "execution_count": 7,
      "outputs": [
        {
          "output_type": "stream",
          "name": "stdout",
          "text": [
            "Epoch 1/10\n",
            "\u001b[1m617/617\u001b[0m \u001b[32m━━━━━━━━━━━━━━━━━━━━\u001b[0m\u001b[37m\u001b[0m \u001b[1m24s\u001b[0m 25ms/step - accuracy: 0.7599 - loss: 0.5959 - val_accuracy: 0.9783 - val_loss: 0.0792\n",
            "Epoch 2/10\n",
            "\u001b[1m617/617\u001b[0m \u001b[32m━━━━━━━━━━━━━━━━━━━━\u001b[0m\u001b[37m\u001b[0m \u001b[1m13s\u001b[0m 13ms/step - accuracy: 0.9706 - loss: 0.1212 - val_accuracy: 0.9834 - val_loss: 0.0620\n",
            "Epoch 3/10\n",
            "\u001b[1m617/617\u001b[0m \u001b[32m━━━━━━━━━━━━━━━━━━━━\u001b[0m\u001b[37m\u001b[0m \u001b[1m7s\u001b[0m 11ms/step - accuracy: 0.9812 - loss: 0.0748 - val_accuracy: 0.9840 - val_loss: 0.0656\n",
            "Epoch 4/10\n",
            "\u001b[1m617/617\u001b[0m \u001b[32m━━━━━━━━━━━━━━━━━━━━\u001b[0m\u001b[37m\u001b[0m \u001b[1m8s\u001b[0m 13ms/step - accuracy: 0.9826 - loss: 0.0677 - val_accuracy: 0.9866 - val_loss: 0.0526\n",
            "Epoch 5/10\n",
            "\u001b[1m617/617\u001b[0m \u001b[32m━━━━━━━━━━━━━━━━━━━━\u001b[0m\u001b[37m\u001b[0m \u001b[1m7s\u001b[0m 11ms/step - accuracy: 0.9887 - loss: 0.0512 - val_accuracy: 0.9878 - val_loss: 0.0541\n",
            "Epoch 6/10\n",
            "\u001b[1m617/617\u001b[0m \u001b[32m━━━━━━━━━━━━━━━━━━━━\u001b[0m\u001b[37m\u001b[0m \u001b[1m10s\u001b[0m 11ms/step - accuracy: 0.9882 - loss: 0.0438 - val_accuracy: 0.9860 - val_loss: 0.0585\n",
            "Epoch 7/10\n",
            "\u001b[1m617/617\u001b[0m \u001b[32m━━━━━━━━━━━━━━━━━━━━\u001b[0m\u001b[37m\u001b[0m \u001b[1m8s\u001b[0m 12ms/step - accuracy: 0.9874 - loss: 0.0470 - val_accuracy: 0.9887 - val_loss: 0.0420\n",
            "Epoch 8/10\n",
            "\u001b[1m617/617\u001b[0m \u001b[32m━━━━━━━━━━━━━━━━━━━━\u001b[0m\u001b[37m\u001b[0m \u001b[1m11s\u001b[0m 14ms/step - accuracy: 0.9906 - loss: 0.0395 - val_accuracy: 0.9905 - val_loss: 0.0546\n",
            "Epoch 9/10\n",
            "\u001b[1m617/617\u001b[0m \u001b[32m━━━━━━━━━━━━━━━━━━━━\u001b[0m\u001b[37m\u001b[0m \u001b[1m7s\u001b[0m 12ms/step - accuracy: 0.9919 - loss: 0.0407 - val_accuracy: 0.9882 - val_loss: 0.0646\n",
            "Epoch 10/10\n",
            "\u001b[1m617/617\u001b[0m \u001b[32m━━━━━━━━━━━━━━━━━━━━\u001b[0m\u001b[37m\u001b[0m \u001b[1m8s\u001b[0m 13ms/step - accuracy: 0.9927 - loss: 0.0264 - val_accuracy: 0.9899 - val_loss: 0.0544\n"
          ]
        },
        {
          "output_type": "execute_result",
          "data": {
            "text/plain": [
              "<keras.src.callbacks.history.History at 0x7fb6c0d23ca0>"
            ]
          },
          "metadata": {},
          "execution_count": 7
        }
      ]
    },
    {
      "cell_type": "code",
      "source": [
        "\n",
        "test_loss, test_acc = model.evaluate(X_test, y_test_one_hot)\n",
        "print(\"Test Accuracy:\", test_acc)\n"
      ],
      "metadata": {
        "colab": {
          "base_uri": "https://localhost:8080/"
        },
        "id": "wtxlZaDCOQq1",
        "outputId": "254e1efe-ab76-4e7e-b8c3-2ea648cfade2"
      },
      "execution_count": 8,
      "outputs": [
        {
          "output_type": "stream",
          "name": "stdout",
          "text": [
            "\u001b[1m130/130\u001b[0m \u001b[32m━━━━━━━━━━━━━━━━━━━━\u001b[0m\u001b[37m\u001b[0m \u001b[1m0s\u001b[0m 3ms/step - accuracy: 0.9923 - loss: 0.0468\n",
            "Test Accuracy: 0.9925462603569031\n"
          ]
        }
      ]
    },
    {
      "cell_type": "code",
      "source": [
        "import matplotlib.pyplot as plt\n",
        "import seaborn as sns\n",
        "from sklearn.metrics import confusion_matrix\n",
        "\n",
        "y_pred_probs = model.predict(X_test)\n",
        "y_pred = np.argmax(y_pred_probs, axis=1)\n",
        "y_test_original = np.argmax(y_test_one_hot, axis=1)\n",
        "\n",
        "\n",
        "cm = confusion_matrix(y_test_original, y_pred)\n",
        "\n",
        "\n",
        "plt.figure(figsize=(8, 6))\n",
        "sns.heatmap(cm, annot=True, fmt='d', cmap=\"Oranges\", xticklabels=[1, 2, 3, 4], yticklabels=[1, 2, 3, 4])\n",
        "plt.xlabel('Predicted Labels')\n",
        "plt.ylabel('True Labels')\n",
        "plt.title('Confusion Matrix')\n",
        "plt.show()\n"
      ],
      "metadata": {
        "colab": {
          "base_uri": "https://localhost:8080/",
          "height": 581
        },
        "id": "VHuhNgO_OezT",
        "outputId": "7f145a82-8f4b-4152-9de5-9932de6e8106"
      },
      "execution_count": 9,
      "outputs": [
        {
          "output_type": "stream",
          "name": "stdout",
          "text": [
            "\u001b[1m130/130\u001b[0m \u001b[32m━━━━━━━━━━━━━━━━━━━━\u001b[0m\u001b[37m\u001b[0m \u001b[1m1s\u001b[0m 4ms/step\n"
          ]
        },
        {
          "output_type": "display_data",
          "data": {
            "text/plain": [
              "<Figure size 800x600 with 2 Axes>"
            ],
            "image/png": "[encoded data removed]"
          },
          "metadata": {}
        }
      ]
    }
  ]
}